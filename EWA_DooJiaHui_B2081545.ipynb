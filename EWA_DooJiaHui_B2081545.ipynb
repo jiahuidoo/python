{
 "cells": [
  {
   "cell_type": "markdown",
   "metadata": {},
   "source": [
    "<img style=\"margin-left: 37%\" src=\"https://upload.wikimedia.org/wikipedia/en/thumb/5/50/SUSS_logo.svg/1200px-SUSS_logo.svg.png\" height=\"180\" width=\"250\">\n",
    "\n",
    "\n",
    "# <center>Python Workshop</center>\n",
    "## <center>End-of-Workshop Assignment (EWA)</center>\n",
    "\n",
    "Please remember to save your work.\n",
    "\n",
    "For submissions:\n",
    "\n",
    "File > Download as > .html"
   ]
  },
  {
   "cell_type": "markdown",
   "metadata": {},
   "source": [
    "<a id=\"top\"></a>\n",
    "# Contents\n",
    "---\n",
    "\n",
    "### SECTION A\n",
    "- [Question 1](#q1) (6 marks)\n",
    "\n",
    "\n",
    "- [Question 2](#q2) (9 marks)\n",
    "\n",
    "\n",
    "- [Question 3](#q3) (10 marks)\n",
    "\n",
    "\n",
    "- [Question 4](#q4) (18 marks)\n",
    "\n",
    "\n",
    "- [Question 5](#q5) (7 marks)\n",
    "\n",
    "\n",
    "### SECTION B\n",
    "\n",
    "- [Question 6](#q6) (30 marks)\n",
    "\n",
    "\n",
    "- [Marking Rubrics](#rubrics)"
   ]
  },
  {
   "cell_type": "markdown",
   "metadata": {},
   "source": [
    "[return to top](#top)"
   ]
  },
  {
   "cell_type": "markdown",
   "metadata": {},
   "source": [
    "<a id=\"q1\"></a>\n",
    "\n",
    "# SECTION A (50 marks)\n",
    "\n",
    "## Question 1\n",
    "---\n",
    "(6 marks)\n",
    "\n",
    "**Formatted Printing**\n",
    "\n",
    "Variables:\n",
    "\n",
    "- `name ='Your Name'`\n",
    "- `year_of_study = integer`\n",
    "- `course = 'Your major'`\n",
    "\n",
    "\n",
    "Using formtted printing and the variables provided, write a code that generates an output describing yourself.\n",
    "\n",
    "Example:\n",
    "`My name is Sean and I am currently a year 3 Finance student.`\n",
    "\n",
    "Please complete your answers within one code cell and generate the output."
   ]
  },
  {
   "cell_type": "code",
   "execution_count": 1,
   "metadata": {
    "ExecuteTime": {
     "end_time": "2021-01-01T13:31:21.719320Z",
     "start_time": "2021-01-01T13:31:21.695319Z"
    }
   },
   "outputs": [
    {
     "name": "stdout",
     "output_type": "stream",
     "text": [
      "Hi, My name is Jia Hui and I am currently a year 1 Business Analytics student. One fun fact about myself is that; I like running and cycling.\n"
     ]
    }
   ],
   "source": [
    "# Question 1 Answer\n",
    "name = 'Jia Hui'\n",
    "year_of_study = 1\n",
    "course = 'Business Analytics'\n",
    "\n",
    "description = 'I like running and cycling.'\n",
    "\n",
    "print(\"Hi, My name is {0} and I am currently a year {1} {2} student. One fun fact about myself is that; {3}\".format(name, year_of_study, course, description))"
   ]
  },
  {
   "cell_type": "markdown",
   "metadata": {},
   "source": [
    "[return to top](#top)\n",
    "[Marking Rubrics](#rubrics)\n",
    "\n",
    "<a id=\"q2\"></a>\n",
    "## Question 2\n",
    "---\n",
    "(9 marks)\n",
    "\n",
    "**List Indexing**\n",
    "\n",
    "`name_list = ['Aaron', 'Brenda', 'Charlton', 'Daniel', 'Emily', 'Fiona']`\n",
    "\n",
    "With the name list provided, print the:\n",
    "\n",
    "a) third name in the list (3 marks)\n",
    "\n",
    "b) the last name in the list (3 marks)\n",
    "\n",
    "c) the index of Emily in the list (3 marks)\n",
    "\n",
    "Please complete your answers within one code cell and generate the output."
   ]
  },
  {
   "cell_type": "code",
   "execution_count": 2,
   "metadata": {
    "ExecuteTime": {
     "end_time": "2021-01-01T13:31:21.996476Z",
     "start_time": "2021-01-01T13:31:21.967610Z"
    }
   },
   "outputs": [
    {
     "data": {
      "text/plain": [
       "'Charlton'"
      ]
     },
     "metadata": {},
     "output_type": "display_data"
    },
    {
     "data": {
      "text/plain": [
       "'Fiona'"
      ]
     },
     "metadata": {},
     "output_type": "display_data"
    },
    {
     "data": {
      "text/plain": [
       "4"
      ]
     },
     "metadata": {},
     "output_type": "display_data"
    }
   ],
   "source": [
    "name_list = ['Aaron', 'Brenda', 'Charlton', 'Daniel', 'Emily', 'Fiona']\n",
    "# Question 2a Answer\n",
    "display(name_list[2])\n",
    "\n",
    "# Question 2b Answer\n",
    "display(name_list[-1])\n",
    "\n",
    "# Question 2c Answer\n",
    "display(name_list.index('Emily'))"
   ]
  },
  {
   "cell_type": "markdown",
   "metadata": {},
   "source": [
    "[return to top](#top)\n",
    "[Marking Rubrics](#rubrics)\n",
    "\n",
    "<a id=\"q3\"></a>\n",
    "## Question 3\n",
    "---\n",
    "(10 marks)\n",
    "\n",
    "**Operators**\n",
    "\n",
    "Xiao Ming bought 100 sweets from Sheng siong and gave 28 sweets to Da ming. The remaining were distributed evenly among his 6 students. \n",
    "\n",
    "How many sweets did each of his student receive? (Ensure your final answer is an integer)\n",
    "\n",
    "Calculate your answer using python and present the final answer using formatted printing.\n",
    "\n",
    "Please complete your answers within one code cell and generate the output.\n",
    "\n",
    "Example output: `Each student received x sweets.`"
   ]
  },
  {
   "cell_type": "code",
   "execution_count": 3,
   "metadata": {
    "ExecuteTime": {
     "end_time": "2021-01-01T13:31:22.219871Z",
     "start_time": "2021-01-01T13:31:22.197826Z"
    }
   },
   "outputs": [
    {
     "name": "stdout",
     "output_type": "stream",
     "text": [
      "Each student recieved 12 sweets.\n"
     ]
    }
   ],
   "source": [
    "# Question 3 Answer\n",
    "\n",
    "# Number of sweets he bought\n",
    "bought = 100\n",
    "\n",
    "# Number of sweets given to Da Ming\n",
    "gave_daming = 28\n",
    "\n",
    "# Number of students that were distributed evenly among \n",
    "no_of_students = 6\n",
    "\n",
    "x = (bought - gave_daming) / no_of_students \n",
    "x = int(x)\n",
    "\n",
    "print(f\"Each student recieved {x} sweets.\")"
   ]
  },
  {
   "cell_type": "markdown",
   "metadata": {},
   "source": [
    "[return to top](#top)\n",
    "[Marking Rubrics](#rubrics)\n",
    "\n",
    "<a id=\"q4\"></a>\n",
    "## Question 4\n",
    "---\n",
    "(18 marks)\n",
    "\n",
    "**If**\n",
    "\n",
    "a) Get the number of items in the number_list using a python built-in function. (3 marks)\n",
    "\n",
    "b) Get the sum of all the numbers in the list. (3 marks)\n",
    "\n",
    "c) Iterate through the list and print the number if it is less than or equal to 500. (12 marks)\n",
    "\n",
    "Example output: `X is an odd number.`"
   ]
  },
  {
   "cell_type": "code",
   "execution_count": 4,
   "metadata": {
    "ExecuteTime": {
     "end_time": "2021-01-01T13:31:22.460273Z",
     "start_time": "2021-01-01T13:31:22.444290Z"
    }
   },
   "outputs": [
    {
     "data": {
      "text/plain": [
       "10"
      ]
     },
     "metadata": {},
     "output_type": "display_data"
    },
    {
     "data": {
      "text/plain": [
       "5334"
      ]
     },
     "metadata": {},
     "output_type": "display_data"
    },
    {
     "name": "stdout",
     "output_type": "stream",
     "text": [
      "369\n",
      "254\n",
      "500\n",
      "46\n"
     ]
    }
   ],
   "source": [
    "number_list = [840, 686, 737, 604, 611, 369, 254, 500, 46, 687]\n",
    "# Question 4a Answer\n",
    "display(len(number_list))\n",
    "\n",
    "# Question 4b Answer\n",
    "display(sum(number_list))\n",
    "\n",
    "# Question 4c Answer\n",
    "threshold = 500\n",
    "\n",
    "for i in number_list:\n",
    "    if i <= threshold:\n",
    "        print(i)"
   ]
  },
  {
   "cell_type": "markdown",
   "metadata": {},
   "source": [
    "[return to top](#top)\n",
    "[Marking Rubrics](#rubrics)\n",
    "\n",
    "<a id=\"q5\"></a>\n",
    "## Question 5\n",
    "---\n",
    "(7 marks)\n",
    "\n",
    "**Dictionaries**\n",
    "\n",
    "|Name|EWA Score|\n",
    "|--|--|\n",
    "|Helen|69|\n",
    "|Vikki|73|\n",
    "|Elizabeth|99|\n",
    "|Ted|70|\n",
    "|Patrick|61|\n",
    "\n",
    "a) Using the data provided above, create a dictionary with the name as the key and EWA Score as the value. (1 mark)\n",
    "\n",
    "b) Get the average score in the class. Without using any libraries (6 marks)\n",
    "\n",
    "hint: sum and len\n"
   ]
  },
  {
   "cell_type": "code",
   "execution_count": 5,
   "metadata": {
    "ExecuteTime": {
     "end_time": "2021-01-01T13:31:22.680796Z",
     "start_time": "2021-01-01T13:31:22.660708Z"
    }
   },
   "outputs": [
    {
     "data": {
      "text/plain": [
       "{'Helen': 69, 'Vikki': 73, 'Elizabeth': 99, 'Ted': 70, 'Patrick': 61}"
      ]
     },
     "metadata": {},
     "output_type": "display_data"
    },
    {
     "data": {
      "text/plain": [
       "74.4"
      ]
     },
     "metadata": {},
     "output_type": "display_data"
    }
   ],
   "source": [
    "# Question 5a Answer\n",
    "ewa_score = {\n",
    "    \"Helen\": 69,\n",
    "    \"Vikki\": 73,\n",
    "    \"Elizabeth\": 99,\n",
    "    \"Ted\": 70,\n",
    "    \"Patrick\": 61\n",
    "    }\n",
    "\n",
    "display(ewa_score)\n",
    "\n",
    "# Question 5b Answer\n",
    "\n",
    "# average = total / number of records\n",
    "average = sum(ewa_score.values()) / len(ewa_score)\n",
    "\n",
    "display(average)"
   ]
  },
  {
   "cell_type": "markdown",
   "metadata": {},
   "source": [
    "[return to top](#top)\n",
    "[Marking Rubrics](#rubrics)\n",
    "\n",
    "<a id=\"q6\"></a>\n",
    "\n",
    "# SECTION B\n",
    "\n",
    "## Question 6\n",
    "---\n",
    "(30 marks)\n",
    "\n",
    "**Pandas, Matplotlib**\n",
    "\n",
    "Using any data of your preference from reputable sites such as __[data.gov.sg](https://data.gov.sg)__ or __[WTO](https://data.wto.org/)__ or the data sets provided in the resources folder, explore and analyse the data by creating a data visualisation.\n",
    "\n",
    "Show the first __`10`__ rows of your dataset.\n",
    "\n",
    "At the end of your analysis, you can add a markdown cell to conclude and explain your findings.\n",
    "\n",
    "Please feel free to use multiple code cells and markdown cells below.\n",
    "\n",
    "You can refer to this __[example](https://www.kaggle.com/seanongzhiwei/plt-eg-dec-2019)__ if you need to."
   ]
  },
  {
   "cell_type": "code",
   "execution_count": 6,
   "metadata": {
    "ExecuteTime": {
     "end_time": "2021-01-01T13:31:24.076595Z",
     "start_time": "2021-01-01T13:31:22.912236Z"
    }
   },
   "outputs": [],
   "source": [
    "import pandas as pd\n",
    "import matplotlib.pyplot as plt"
   ]
  },
  {
   "cell_type": "code",
   "execution_count": 7,
   "metadata": {
    "ExecuteTime": {
     "end_time": "2021-01-01T13:31:24.124588Z",
     "start_time": "2021-01-01T13:31:24.076595Z"
    }
   },
   "outputs": [],
   "source": [
    "residents = pd.read_csv('./singapore-residents-by-age-group-ethnic-group-and-sex-end-june-annual.csv')\n",
    "\n",
    "# Cast \"value\" dtype to int \n",
    "residents['value'] = residents['value'].replace('na',None).astype(int)"
   ]
  },
  {
   "cell_type": "code",
   "execution_count": 8,
   "metadata": {
    "ExecuteTime": {
     "end_time": "2021-01-01T13:31:24.156594Z",
     "start_time": "2021-01-01T13:31:24.124588Z"
    }
   },
   "outputs": [
    {
     "data": {
      "text/html": [
       "<div>\n",
       "<style scoped>\n",
       "    .dataframe tbody tr th:only-of-type {\n",
       "        vertical-align: middle;\n",
       "    }\n",
       "\n",
       "    .dataframe tbody tr th {\n",
       "        vertical-align: top;\n",
       "    }\n",
       "\n",
       "    .dataframe thead th {\n",
       "        text-align: right;\n",
       "    }\n",
       "</style>\n",
       "<table border=\"1\" class=\"dataframe\">\n",
       "  <thead>\n",
       "    <tr style=\"text-align: right;\">\n",
       "      <th></th>\n",
       "      <th>year</th>\n",
       "      <th>level_1</th>\n",
       "      <th>level_2</th>\n",
       "      <th>value</th>\n",
       "    </tr>\n",
       "  </thead>\n",
       "  <tbody>\n",
       "    <tr>\n",
       "      <th>0</th>\n",
       "      <td>1957</td>\n",
       "      <td>Total Residents</td>\n",
       "      <td>0  -  4 Years</td>\n",
       "      <td>264727</td>\n",
       "    </tr>\n",
       "    <tr>\n",
       "      <th>1</th>\n",
       "      <td>1957</td>\n",
       "      <td>Total Residents</td>\n",
       "      <td>5  -  9 Years</td>\n",
       "      <td>218097</td>\n",
       "    </tr>\n",
       "    <tr>\n",
       "      <th>2</th>\n",
       "      <td>1957</td>\n",
       "      <td>Total Residents</td>\n",
       "      <td>10 - 14 Years</td>\n",
       "      <td>136280</td>\n",
       "    </tr>\n",
       "    <tr>\n",
       "      <th>3</th>\n",
       "      <td>1957</td>\n",
       "      <td>Total Residents</td>\n",
       "      <td>15 - 19 Years</td>\n",
       "      <td>135679</td>\n",
       "    </tr>\n",
       "    <tr>\n",
       "      <th>4</th>\n",
       "      <td>1957</td>\n",
       "      <td>Total Residents</td>\n",
       "      <td>20 - 24 Years</td>\n",
       "      <td>119266</td>\n",
       "    </tr>\n",
       "    <tr>\n",
       "      <th>5</th>\n",
       "      <td>1957</td>\n",
       "      <td>Total Residents</td>\n",
       "      <td>25 - 29 Years</td>\n",
       "      <td>111726</td>\n",
       "    </tr>\n",
       "    <tr>\n",
       "      <th>6</th>\n",
       "      <td>1957</td>\n",
       "      <td>Total Residents</td>\n",
       "      <td>30 - 34 Years</td>\n",
       "      <td>89925</td>\n",
       "    </tr>\n",
       "    <tr>\n",
       "      <th>7</th>\n",
       "      <td>1957</td>\n",
       "      <td>Total Residents</td>\n",
       "      <td>35 - 39 Years</td>\n",
       "      <td>82709</td>\n",
       "    </tr>\n",
       "    <tr>\n",
       "      <th>8</th>\n",
       "      <td>1957</td>\n",
       "      <td>Total Residents</td>\n",
       "      <td>40 - 44 Years</td>\n",
       "      <td>76217</td>\n",
       "    </tr>\n",
       "    <tr>\n",
       "      <th>9</th>\n",
       "      <td>1957</td>\n",
       "      <td>Total Residents</td>\n",
       "      <td>45 - 49 Years</td>\n",
       "      <td>66716</td>\n",
       "    </tr>\n",
       "  </tbody>\n",
       "</table>\n",
       "</div>"
      ],
      "text/plain": [
       "   year          level_1        level_2   value\n",
       "0  1957  Total Residents  0  -  4 Years  264727\n",
       "1  1957  Total Residents  5  -  9 Years  218097\n",
       "2  1957  Total Residents  10 - 14 Years  136280\n",
       "3  1957  Total Residents  15 - 19 Years  135679\n",
       "4  1957  Total Residents  20 - 24 Years  119266\n",
       "5  1957  Total Residents  25 - 29 Years  111726\n",
       "6  1957  Total Residents  30 - 34 Years   89925\n",
       "7  1957  Total Residents  35 - 39 Years   82709\n",
       "8  1957  Total Residents  40 - 44 Years   76217\n",
       "9  1957  Total Residents  45 - 49 Years   66716"
      ]
     },
     "execution_count": 8,
     "metadata": {},
     "output_type": "execute_result"
    }
   ],
   "source": [
    "residents.head(10)"
   ]
  },
  {
   "cell_type": "code",
   "execution_count": 9,
   "metadata": {
    "ExecuteTime": {
     "end_time": "2021-01-01T13:31:24.180595Z",
     "start_time": "2021-01-01T13:31:24.156594Z"
    }
   },
   "outputs": [
    {
     "data": {
      "text/plain": [
       "Index(['year', 'category', 'age', 'value'], dtype='object')"
      ]
     },
     "metadata": {},
     "output_type": "display_data"
    },
    {
     "data": {
      "text/plain": [
       "array(['Total Residents', 'Total Male Residents',\n",
       "       'Total Female Residents', 'Total Malays', 'Total Male Malays',\n",
       "       'Total Female Malays', 'Total Chinese', 'Total Male Chinese',\n",
       "       'Total Female Chinese', 'Total Indians', 'Total Male Indians',\n",
       "       'Total Female Indians', 'Other Ethnic Groups (Total)',\n",
       "       'Other Ethnic Groups (Males)', 'Other Ethnic Groups (Females)'],\n",
       "      dtype=object)"
      ]
     },
     "metadata": {},
     "output_type": "display_data"
    }
   ],
   "source": [
    "# Rename columns of the dataframe\n",
    "residents.rename(columns={'level_1':'category','level_2':'age'},inplace=True)\n",
    "\n",
    "display(residents.columns)\n",
    "\n",
    "# Types of segregation/catgeory in the dataset\n",
    "display(residents.category.unique())"
   ]
  },
  {
   "cell_type": "code",
   "execution_count": 10,
   "metadata": {
    "ExecuteTime": {
     "end_time": "2021-01-01T13:31:24.196595Z",
     "start_time": "2021-01-01T13:31:24.180595Z"
    }
   },
   "outputs": [],
   "source": [
    "# Rename the relevant (category) values\n",
    "residents['category'].replace({'Total Female Residents':'Female',\n",
    "                                      'Total Male Residents':'Male',\n",
    "                                      'Total Chinese':'Chinese',\n",
    "                                      'Total Malays':'Malays', \n",
    "                                      'Total Indians':'Indians', \n",
    "                                      'Other Ethnic Groups (Total)':'Others (race)'}, \n",
    "                                 inplace=True)"
   ]
  },
  {
   "cell_type": "code",
   "execution_count": 11,
   "metadata": {
    "ExecuteTime": {
     "end_time": "2021-01-01T13:31:24.228608Z",
     "start_time": "2021-01-01T13:31:24.196595Z"
    }
   },
   "outputs": [
    {
     "data": {
      "text/plain": [
       "array(['Male', 'Female', 'Malays', 'Chinese', 'Indians', 'Others (race)'],\n",
       "      dtype=object)"
      ]
     },
     "metadata": {},
     "output_type": "display_data"
    }
   ],
   "source": [
    "# Keep only relevant records\n",
    "residents = residents[residents.category.isin(['Female','Male','Chinese','Malays','Indians','Others (race)'])].reset_index(drop=True)\n",
    "\n",
    "display(residents.category.unique())"
   ]
  },
  {
   "cell_type": "code",
   "execution_count": 12,
   "metadata": {
    "ExecuteTime": {
     "end_time": "2021-01-01T13:31:24.244619Z",
     "start_time": "2021-01-01T13:31:24.228608Z"
    }
   },
   "outputs": [
    {
     "data": {
      "text/html": [
       "<div>\n",
       "<style scoped>\n",
       "    .dataframe tbody tr th:only-of-type {\n",
       "        vertical-align: middle;\n",
       "    }\n",
       "\n",
       "    .dataframe tbody tr th {\n",
       "        vertical-align: top;\n",
       "    }\n",
       "\n",
       "    .dataframe thead th {\n",
       "        text-align: right;\n",
       "    }\n",
       "</style>\n",
       "<table border=\"1\" class=\"dataframe\">\n",
       "  <thead>\n",
       "    <tr style=\"text-align: right;\">\n",
       "      <th></th>\n",
       "      <th>year</th>\n",
       "      <th>category</th>\n",
       "      <th>age</th>\n",
       "      <th>value</th>\n",
       "    </tr>\n",
       "  </thead>\n",
       "  <tbody>\n",
       "    <tr>\n",
       "      <th>0</th>\n",
       "      <td>1957</td>\n",
       "      <td>Male</td>\n",
       "      <td>0  -  4 Years</td>\n",
       "      <td>136712</td>\n",
       "    </tr>\n",
       "    <tr>\n",
       "      <th>1</th>\n",
       "      <td>1957</td>\n",
       "      <td>Male</td>\n",
       "      <td>5  -  9 Years</td>\n",
       "      <td>112030</td>\n",
       "    </tr>\n",
       "    <tr>\n",
       "      <th>2</th>\n",
       "      <td>1957</td>\n",
       "      <td>Male</td>\n",
       "      <td>10 - 14 Years</td>\n",
       "      <td>71219</td>\n",
       "    </tr>\n",
       "    <tr>\n",
       "      <th>3</th>\n",
       "      <td>1957</td>\n",
       "      <td>Male</td>\n",
       "      <td>15 - 19 Years</td>\n",
       "      <td>70137</td>\n",
       "    </tr>\n",
       "    <tr>\n",
       "      <th>4</th>\n",
       "      <td>1957</td>\n",
       "      <td>Male</td>\n",
       "      <td>20 - 24 Years</td>\n",
       "      <td>61254</td>\n",
       "    </tr>\n",
       "    <tr>\n",
       "      <th>5</th>\n",
       "      <td>1957</td>\n",
       "      <td>Male</td>\n",
       "      <td>25 - 29 Years</td>\n",
       "      <td>59776</td>\n",
       "    </tr>\n",
       "    <tr>\n",
       "      <th>6</th>\n",
       "      <td>1957</td>\n",
       "      <td>Male</td>\n",
       "      <td>30 - 34 Years</td>\n",
       "      <td>50148</td>\n",
       "    </tr>\n",
       "    <tr>\n",
       "      <th>7</th>\n",
       "      <td>1957</td>\n",
       "      <td>Male</td>\n",
       "      <td>35 - 39 Years</td>\n",
       "      <td>46506</td>\n",
       "    </tr>\n",
       "    <tr>\n",
       "      <th>8</th>\n",
       "      <td>1957</td>\n",
       "      <td>Male</td>\n",
       "      <td>40 - 44 Years</td>\n",
       "      <td>43041</td>\n",
       "    </tr>\n",
       "    <tr>\n",
       "      <th>9</th>\n",
       "      <td>1957</td>\n",
       "      <td>Male</td>\n",
       "      <td>45 - 49 Years</td>\n",
       "      <td>37773</td>\n",
       "    </tr>\n",
       "  </tbody>\n",
       "</table>\n",
       "</div>"
      ],
      "text/plain": [
       "   year category            age   value\n",
       "0  1957     Male  0  -  4 Years  136712\n",
       "1  1957     Male  5  -  9 Years  112030\n",
       "2  1957     Male  10 - 14 Years   71219\n",
       "3  1957     Male  15 - 19 Years   70137\n",
       "4  1957     Male  20 - 24 Years   61254\n",
       "5  1957     Male  25 - 29 Years   59776\n",
       "6  1957     Male  30 - 34 Years   50148\n",
       "7  1957     Male  35 - 39 Years   46506\n",
       "8  1957     Male  40 - 44 Years   43041\n",
       "9  1957     Male  45 - 49 Years   37773"
      ]
     },
     "execution_count": 12,
     "metadata": {},
     "output_type": "execute_result"
    }
   ],
   "source": [
    "residents.head(10)"
   ]
  },
  {
   "cell_type": "markdown",
   "metadata": {},
   "source": [
    "### Findings 1:"
   ]
  },
  {
   "cell_type": "code",
   "execution_count": 13,
   "metadata": {
    "ExecuteTime": {
     "end_time": "2021-01-01T13:31:24.276606Z",
     "start_time": "2021-01-01T13:31:24.244619Z"
    }
   },
   "outputs": [
    {
     "data": {
      "text/html": [
       "<div>\n",
       "<style scoped>\n",
       "    .dataframe tbody tr th:only-of-type {\n",
       "        vertical-align: middle;\n",
       "    }\n",
       "\n",
       "    .dataframe tbody tr th {\n",
       "        vertical-align: top;\n",
       "    }\n",
       "\n",
       "    .dataframe thead th {\n",
       "        text-align: right;\n",
       "    }\n",
       "</style>\n",
       "<table border=\"1\" class=\"dataframe\">\n",
       "  <thead>\n",
       "    <tr style=\"text-align: right;\">\n",
       "      <th></th>\n",
       "      <th>year</th>\n",
       "      <th>category</th>\n",
       "      <th>age</th>\n",
       "      <th>value</th>\n",
       "    </tr>\n",
       "  </thead>\n",
       "  <tbody>\n",
       "    <tr>\n",
       "      <th>0</th>\n",
       "      <td>2010</td>\n",
       "      <td>Male</td>\n",
       "      <td>0  -  4 Years</td>\n",
       "      <td>98890</td>\n",
       "    </tr>\n",
       "    <tr>\n",
       "      <th>1</th>\n",
       "      <td>2010</td>\n",
       "      <td>Male</td>\n",
       "      <td>5  -  9 Years</td>\n",
       "      <td>110215</td>\n",
       "    </tr>\n",
       "    <tr>\n",
       "      <th>2</th>\n",
       "      <td>2010</td>\n",
       "      <td>Male</td>\n",
       "      <td>10 - 14 Years</td>\n",
       "      <td>125271</td>\n",
       "    </tr>\n",
       "    <tr>\n",
       "      <th>3</th>\n",
       "      <td>2010</td>\n",
       "      <td>Male</td>\n",
       "      <td>15 - 19 Years</td>\n",
       "      <td>134003</td>\n",
       "    </tr>\n",
       "    <tr>\n",
       "      <th>4</th>\n",
       "      <td>2010</td>\n",
       "      <td>Male</td>\n",
       "      <td>20 - 24 Years</td>\n",
       "      <td>123942</td>\n",
       "    </tr>\n",
       "  </tbody>\n",
       "</table>\n",
       "</div>"
      ],
      "text/plain": [
       "   year category            age   value\n",
       "0  2010     Male  0  -  4 Years   98890\n",
       "1  2010     Male  5  -  9 Years  110215\n",
       "2  2010     Male  10 - 14 Years  125271\n",
       "3  2010     Male  15 - 19 Years  134003\n",
       "4  2010     Male  20 - 24 Years  123942"
      ]
     },
     "execution_count": 13,
     "metadata": {},
     "output_type": "execute_result"
    }
   ],
   "source": [
    "# Filter only past 10 years records\n",
    "current_yr = 2020 \n",
    "past_10_residents = residents[residents['year'] == current_yr-10].reset_index(drop=True)\n",
    "past_10_residents.head()"
   ]
  },
  {
   "cell_type": "code",
   "execution_count": 14,
   "metadata": {
    "ExecuteTime": {
     "end_time": "2021-01-01T13:31:24.482074Z",
     "start_time": "2021-01-01T13:31:24.276606Z"
    }
   },
   "outputs": [
    {
     "data": {
      "image/png": "[encoded data removed]",
      "text/plain": [
       "<Figure size 432x288 with 1 Axes>"
      ]
     },
     "metadata": {
      "needs_background": "light"
     },
     "output_type": "display_data"
    }
   ],
   "source": [
    "category_df = past_10_residents.groupby('category')['value'].sum().reset_index()\n",
    "ax = category_df.plot.bar(x='category', y='value', rot=0)"
   ]
  },
  {
   "cell_type": "markdown",
   "metadata": {},
   "source": [
    "### Conclusion 1:\n",
    "There are for more Total Chinese Residents in Singapore for the past 10 years. Also, more Male Singapore Residents than Female Singapore Residents in last 10 years. "
   ]
  },
  {
   "cell_type": "markdown",
   "metadata": {},
   "source": [
    "### Findings  2:"
   ]
  },
  {
   "cell_type": "code",
   "execution_count": 15,
   "metadata": {
    "ExecuteTime": {
     "end_time": "2021-01-01T13:31:24.508576Z",
     "start_time": "2021-01-01T13:31:24.482074Z"
    }
   },
   "outputs": [
    {
     "data": {
      "text/html": [
       "<div>\n",
       "<style scoped>\n",
       "    .dataframe tbody tr th:only-of-type {\n",
       "        vertical-align: middle;\n",
       "    }\n",
       "\n",
       "    .dataframe tbody tr th {\n",
       "        vertical-align: top;\n",
       "    }\n",
       "\n",
       "    .dataframe thead th {\n",
       "        text-align: right;\n",
       "    }\n",
       "</style>\n",
       "<table border=\"1\" class=\"dataframe\">\n",
       "  <thead>\n",
       "    <tr style=\"text-align: right;\">\n",
       "      <th></th>\n",
       "      <th>year</th>\n",
       "      <th>category</th>\n",
       "      <th>age</th>\n",
       "      <th>value</th>\n",
       "    </tr>\n",
       "  </thead>\n",
       "  <tbody>\n",
       "    <tr>\n",
       "      <th>0</th>\n",
       "      <td>1957</td>\n",
       "      <td>Male</td>\n",
       "      <td>10 - 14 Years</td>\n",
       "      <td>71219</td>\n",
       "    </tr>\n",
       "    <tr>\n",
       "      <th>1</th>\n",
       "      <td>1957</td>\n",
       "      <td>Male</td>\n",
       "      <td>15 - 19 Years</td>\n",
       "      <td>70137</td>\n",
       "    </tr>\n",
       "    <tr>\n",
       "      <th>2</th>\n",
       "      <td>1957</td>\n",
       "      <td>Male</td>\n",
       "      <td>20 - 24 Years</td>\n",
       "      <td>61254</td>\n",
       "    </tr>\n",
       "    <tr>\n",
       "      <th>3</th>\n",
       "      <td>1957</td>\n",
       "      <td>Female</td>\n",
       "      <td>10 - 14 Years</td>\n",
       "      <td>65061</td>\n",
       "    </tr>\n",
       "    <tr>\n",
       "      <th>4</th>\n",
       "      <td>1957</td>\n",
       "      <td>Female</td>\n",
       "      <td>15 - 19 Years</td>\n",
       "      <td>65542</td>\n",
       "    </tr>\n",
       "  </tbody>\n",
       "</table>\n",
       "</div>"
      ],
      "text/plain": [
       "   year category            age  value\n",
       "0  1957     Male  10 - 14 Years  71219\n",
       "1  1957     Male  15 - 19 Years  70137\n",
       "2  1957     Male  20 - 24 Years  61254\n",
       "3  1957   Female  10 - 14 Years  65061\n",
       "4  1957   Female  15 - 19 Years  65542"
      ]
     },
     "execution_count": 15,
     "metadata": {},
     "output_type": "execute_result"
    }
   ],
   "source": [
    "# Filter only \"young people\"; 10-14, 15-19, 20-24\n",
    "age_ranges = ['10 - 14 Years', '15 - 19 Years', '20 - 24 Years']\n",
    "\n",
    "young_residents = residents[residents['age'].isin(age_ranges)].reset_index(drop=True)\n",
    "young_residents.head()"
   ]
  },
  {
   "cell_type": "code",
   "execution_count": 16,
   "metadata": {
    "ExecuteTime": {
     "end_time": "2021-01-01T13:31:25.266370Z",
     "start_time": "2021-01-01T13:31:25.101308Z"
    }
   },
   "outputs": [
    {
     "data": {
      "image/png": "[encoded data removed]",
      "text/plain": [
       "<Figure size 432x288 with 1 Axes>"
      ]
     },
     "metadata": {
      "needs_background": "light"
     },
     "output_type": "display_data"
    }
   ],
   "source": [
    "age_df = young_residents.groupby('age')['value'].sum().reset_index()\n",
    "ax = age_df.plot.bar(x='age', y='value', rot=0)"
   ]
  },
  {
   "cell_type": "markdown",
   "metadata": {},
   "source": [
    "### Conclusion 2:\n",
    "There are more Singapore residents between the age of 1-14 years old since year 1957."
   ]
  },
  {
   "cell_type": "markdown",
   "metadata": {},
   "source": [
    "[return to top](#top)\n",
    "\n",
    "<a id=\"rubrics\"></a>\n",
    "#Marking Rubrics\n",
    "---\n",
    "## **SECTION A** (50 marks)\n",
    "\n",
    "## [Question 1](#q1)\n",
    "2 marks per variable correctly used and printed.\n",
    "\n",
    "Total of 6 marks.\n",
    "\n",
    "## [Question 2](#q2)\n",
    "3 marks per part.\n",
    "\n",
    "Total of 9 marks.\n",
    "\n",
    "## [Question 3](#q3)\n",
    "2 marks for formatted printing.\n",
    "\n",
    "8 marks for making the variable and calculations. Flexible.\n",
    "\n",
    "Total of 10 marks.\n",
    "\n",
    "## [Question 4](#q4)\n",
    "3 marks given for each correct answer \n",
    "\n",
    "Total of 18 marks.\n",
    "\n",
    "## [Question 5](#q5)\n",
    "\n",
    "Total of 7 marks.\n",
    "\n",
    "\n",
    "## **SECTION B** (30 marks)\n",
    "\n",
    "## [Question 6](#q6)\n",
    "\n",
    "Import relevant libraries: 4 marks\n",
    "\n",
    "Read the csv file: 2 marks\n",
    "\n",
    "Show the first 10 rows of the dataset: 2 marks\n",
    "\n",
    "Relevant/insightful Data visualisation (can have more than one): 15 marks\n",
    "\n",
    "Conclusion/explanation: 7 marks\n",
    "\n",
    "##   FORMATTING (20 marks)\n",
    "\n",
    "Neat, concise and readable code: 15-20 marks\n",
    "\n",
    "Readable code with occasional Untidy, lengthy and Non-readable code: 10-14 marks\n",
    "\n",
    "Untidy, lengthy and Non-readable code: 0-9 marks"
   ]
  }
 ],
 "metadata": {
  "kernelspec": {
   "display_name": "Python 3",
   "language": "python",
   "name": "python3"
  },
  "language_info": {
   "codemirror_mode": {
    "name": "ipython",
    "version": 3
   },
   "file_extension": ".py",
   "mimetype": "text/x-python",
   "name": "python",
   "nbconvert_exporter": "python",
   "pygments_lexer": "ipython3",
   "version": "3.8.3"
  }
 },
 "nbformat": 4,
 "nbformat_minor": 4
}
